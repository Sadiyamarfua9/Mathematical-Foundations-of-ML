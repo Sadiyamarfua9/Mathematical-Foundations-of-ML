import pandas as pd
import matplotlib.pyplot as plt
import seaborn as sns
import numpy as np
from sklearn.metrics import accuracy_score
%matplotlib inline


df=pd.read_csv("./datasets/weight_height_dataset.csv")
df


print(df['Class'].value_counts())
sns.countplot(x='Class', data=df)
plt.show()



X=df.iloc[:,:-1].values
y=df.iloc[:,-1].values


from sklearn.model_selection import train_test_split
X_train,X_test,y_train,y_test=train_test_split(X,y,test_size=0.25,random_state=42)


print("X_train:",X_train.shape)
print("X_test:",X_test.shape)
print("y_train",y_train.shape)
print("y_test",y_test.shape)


from sklearn.preprocessing import StandardScaler
sc=StandardScaler()
X_trainn=sc.fit_transform(X_train)
X_testt=sc.transform(X_test)


from sklearn.neighbors import KNeighborsClassifier
classifier = KNeighborsClassifier(n_neighbors = 5, metric = 'minkowski', p = 2)
classifier.fit(X_trainn, y_train)


print(classifier.predict(sc.transform([[150,46]])))


y_pred = classifier.predict(X_testt)
y_pred


from sklearn.metrics import confusion_matrix
cf=confusion_matrix(y_test,y_pred)
cf


labels=classifier.classes_
labels


import seaborn as sns
import matplotlib.pyplot as plt

# Create the figure and axis together
fig, ax = plt.subplots(figsize=(8, 6))

# Plot the heatmap on the same ax
sns.heatmap(cf, annot=True, annot_kws={"size": 20}, fmt='d',
            cmap="Blues", xticklabels=labels, yticklabels=labels, ax=ax)

# Set labels and title
ax.set_title('Confusion Matrix')
ax.set_xlabel('Predicted')
ax.set_ylabel('Actual')

# Show the plot




from sklearn.metrics import classification_report,roc_curve,auc
print(classification_report(y_test,y_pred,target_names=labels))





# Assuming X_train is your feature matrix and y_train is your target vector
# Assuming X_train has two features for simplicity

# Convert X_train to a pandas DataFrame for easier visualization with Seaborn

df = pd.DataFrame(X_train, columns=['Height(cm)','Weight(kg)'])
custom_palette = ['#FF5733', '#33FF57', '#3366FF']
# Assuming y_train is your target vector
# Concatenate X_train DataFrame with y_train Series
df['Class'] = y_train
plt.figure(figsize=(8, 6))
sns.scatterplot(data=df, x='Height(cm)', y='Weight(kg)', hue='Class', palette=custom_palette)
plt.xlabel('Height (cm)')
plt.ylabel('Weight (kg)')
plt.title('Scatter Plot of Training Set')
plt.legend(title='Class')
plt.grid(True)
plt.show()





# Assuming X_test is your feature matrix and y_test is your target vector
# Assuming X_test has two features for simplicity

# Convert X_test to a pandas DataFrame for easier visualization with Seaborn

df = pd.DataFrame(X_test, columns=['Height(cm)','Weight(kg)'])
custom_palette = ['#FF5733', '#33FF57', '#3366FF']
# Assuming y_test is your target vector
# Concatenate X_test DataFrame with y_train Series
df['Class'] = y_test
plt.figure(figsize=(8, 6))
sns.scatterplot(data=df, x='Height(cm)', y='Weight(kg)', hue='Class', palette=custom_palette)
plt.xlabel('Height (cm)')
plt.ylabel('Weight (kg)')
plt.title('Scatter Plot of Test Set')
plt.legend(title='Class')
plt.grid(True)
plt.show()



#print("Original Labels",X_test)
#print("Labels Predicted",prediction)

print("Train data accuracy:",accuracy_score(y_true =y_train, y_pred=classifier.predict(X_trainn)))
print("Test data accuracy:",accuracy_score(y_true = y_test, y_pred=classifier.predict(X_testt)))


neighbors=np.arange(1,11)
train_accuracies = []
test_accuracies = []
for k in neighbors:
    knn=KNeighborsClassifier(n_neighbors=k)
    knn.fit(X_trainn,y_train)
    train_accuracy=knn.score(X_trainn,y_train)
    test_accuracy=knn.score(X_testt,y_test)
    train_accuracies.append(train_accuracy)
    test_accuracies.append(test_accuracy)

plt.figure(figsize=(10, 6))
plt.plot(neighbors, train_accuracies, label='Train Accuracy')
plt.plot(neighbors, test_accuracies, label='Test Accuracy')
plt.xlabel('Number of Neighbors (k)')
plt.ylabel('Accuracy')
plt.show()



