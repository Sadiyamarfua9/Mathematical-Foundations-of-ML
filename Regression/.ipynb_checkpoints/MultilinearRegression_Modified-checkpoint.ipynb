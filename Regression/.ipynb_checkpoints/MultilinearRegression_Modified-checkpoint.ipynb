{
 "cells": [
  {
   "cell_type": "code",
   "execution_count": 13,
   "id": "6a3c8bf2-5194-4df8-a211-b10502f8ea4d",
   "metadata": {},
   "outputs": [],
   "source": [
    "# Import Pandas Library, used for data manipulation\n",
    "# Import matplotlib, used to plot our data\n",
    "# Import numpy for mathemtical operations\n",
    "import pandas as pd\n",
    "import matplotlib.pyplot as plt\n",
    "import numpy as np\n",
    "from sklearn.preprocessing import LabelEncoder"
   ]
  },
  {
   "cell_type": "code",
   "execution_count": 15,
   "id": "f113a1ac-efbb-4c74-8cf0-661e2843fb62",
   "metadata": {},
   "outputs": [],
   "source": [
    "df=pd.read_csv(\"./dataset/SalaryDataComplete.csv\")"
   ]
  },
  {
   "cell_type": "code",
   "execution_count": 17,
   "id": "aed47f0b-ef2c-4561-ab71-f50c06bdb954",
   "metadata": {},
   "outputs": [
    {
     "data": {
      "text/plain": [
       "(375, 6)"
      ]
     },
     "execution_count": 17,
     "metadata": {},
     "output_type": "execute_result"
    }
   ],
   "source": [
    "df.shape"
   ]
  },
  {
   "cell_type": "code",
   "execution_count": 19,
   "id": "bacc3e1c-202a-4dc4-b2d1-29eaef8a7b67",
   "metadata": {},
   "outputs": [
    {
     "data": {
      "text/html": [
       "<div>\n",
       "<style scoped>\n",
       "    .dataframe tbody tr th:only-of-type {\n",
       "        vertical-align: middle;\n",
       "    }\n",
       "\n",
       "    .dataframe tbody tr th {\n",
       "        vertical-align: top;\n",
       "    }\n",
       "\n",
       "    .dataframe thead th {\n",
       "        text-align: right;\n",
       "    }\n",
       "</style>\n",
       "<table border=\"1\" class=\"dataframe\">\n",
       "  <thead>\n",
       "    <tr style=\"text-align: right;\">\n",
       "      <th></th>\n",
       "      <th>Age</th>\n",
       "      <th>Gender</th>\n",
       "      <th>Education Level</th>\n",
       "      <th>Job Title</th>\n",
       "      <th>Years of Experience</th>\n",
       "      <th>Salary</th>\n",
       "    </tr>\n",
       "  </thead>\n",
       "  <tbody>\n",
       "    <tr>\n",
       "      <th>0</th>\n",
       "      <td>32.0</td>\n",
       "      <td>Male</td>\n",
       "      <td>Bachelor's</td>\n",
       "      <td>Software Engineer</td>\n",
       "      <td>5.0</td>\n",
       "      <td>90000.0</td>\n",
       "    </tr>\n",
       "    <tr>\n",
       "      <th>1</th>\n",
       "      <td>28.0</td>\n",
       "      <td>Female</td>\n",
       "      <td>Master's</td>\n",
       "      <td>Data Analyst</td>\n",
       "      <td>3.0</td>\n",
       "      <td>65000.0</td>\n",
       "    </tr>\n",
       "    <tr>\n",
       "      <th>2</th>\n",
       "      <td>45.0</td>\n",
       "      <td>Male</td>\n",
       "      <td>PhD</td>\n",
       "      <td>Senior Manager</td>\n",
       "      <td>15.0</td>\n",
       "      <td>150000.0</td>\n",
       "    </tr>\n",
       "    <tr>\n",
       "      <th>3</th>\n",
       "      <td>36.0</td>\n",
       "      <td>Female</td>\n",
       "      <td>Bachelor's</td>\n",
       "      <td>Sales Associate</td>\n",
       "      <td>7.0</td>\n",
       "      <td>60000.0</td>\n",
       "    </tr>\n",
       "    <tr>\n",
       "      <th>4</th>\n",
       "      <td>52.0</td>\n",
       "      <td>Male</td>\n",
       "      <td>Master's</td>\n",
       "      <td>Director</td>\n",
       "      <td>20.0</td>\n",
       "      <td>200000.0</td>\n",
       "    </tr>\n",
       "  </tbody>\n",
       "</table>\n",
       "</div>"
      ],
      "text/plain": [
       "    Age  Gender Education Level          Job Title  Years of Experience  \\\n",
       "0  32.0    Male      Bachelor's  Software Engineer                  5.0   \n",
       "1  28.0  Female        Master's       Data Analyst                  3.0   \n",
       "2  45.0    Male             PhD     Senior Manager                 15.0   \n",
       "3  36.0  Female      Bachelor's    Sales Associate                  7.0   \n",
       "4  52.0    Male        Master's           Director                 20.0   \n",
       "\n",
       "     Salary  \n",
       "0   90000.0  \n",
       "1   65000.0  \n",
       "2  150000.0  \n",
       "3   60000.0  \n",
       "4  200000.0  "
      ]
     },
     "execution_count": 19,
     "metadata": {},
     "output_type": "execute_result"
    }
   ],
   "source": [
    "df.head()"
   ]
  },
  {
   "cell_type": "code",
   "execution_count": 21,
   "id": "218e6fd6-d61a-417d-bad6-becbab52b294",
   "metadata": {},
   "outputs": [
    {
     "name": "stdout",
     "output_type": "stream",
     "text": [
      "<class 'pandas.core.frame.DataFrame'>\n",
      "RangeIndex: 375 entries, 0 to 374\n",
      "Data columns (total 6 columns):\n",
      " #   Column               Non-Null Count  Dtype  \n",
      "---  ------               --------------  -----  \n",
      " 0   Age                  373 non-null    float64\n",
      " 1   Gender               373 non-null    object \n",
      " 2   Education Level      373 non-null    object \n",
      " 3   Job Title            373 non-null    object \n",
      " 4   Years of Experience  373 non-null    float64\n",
      " 5   Salary               373 non-null    float64\n",
      "dtypes: float64(3), object(3)\n",
      "memory usage: 17.7+ KB\n"
     ]
    }
   ],
   "source": [
    "df.info()"
   ]
  },
  {
   "cell_type": "code",
   "execution_count": 23,
   "id": "42471a48-fd4e-471a-87cb-19f7b3c9e03f",
   "metadata": {},
   "outputs": [
    {
     "data": {
      "text/html": [
       "<div>\n",
       "<style scoped>\n",
       "    .dataframe tbody tr th:only-of-type {\n",
       "        vertical-align: middle;\n",
       "    }\n",
       "\n",
       "    .dataframe tbody tr th {\n",
       "        vertical-align: top;\n",
       "    }\n",
       "\n",
       "    .dataframe thead th {\n",
       "        text-align: right;\n",
       "    }\n",
       "</style>\n",
       "<table border=\"1\" class=\"dataframe\">\n",
       "  <thead>\n",
       "    <tr style=\"text-align: right;\">\n",
       "      <th></th>\n",
       "      <th>Age</th>\n",
       "      <th>Years of Experience</th>\n",
       "      <th>Salary</th>\n",
       "    </tr>\n",
       "  </thead>\n",
       "  <tbody>\n",
       "    <tr>\n",
       "      <th>count</th>\n",
       "      <td>373.000000</td>\n",
       "      <td>373.000000</td>\n",
       "      <td>373.000000</td>\n",
       "    </tr>\n",
       "    <tr>\n",
       "      <th>mean</th>\n",
       "      <td>37.431635</td>\n",
       "      <td>10.030831</td>\n",
       "      <td>100577.345845</td>\n",
       "    </tr>\n",
       "    <tr>\n",
       "      <th>std</th>\n",
       "      <td>7.069073</td>\n",
       "      <td>6.557007</td>\n",
       "      <td>48240.013482</td>\n",
       "    </tr>\n",
       "    <tr>\n",
       "      <th>min</th>\n",
       "      <td>23.000000</td>\n",
       "      <td>0.000000</td>\n",
       "      <td>350.000000</td>\n",
       "    </tr>\n",
       "    <tr>\n",
       "      <th>25%</th>\n",
       "      <td>31.000000</td>\n",
       "      <td>4.000000</td>\n",
       "      <td>55000.000000</td>\n",
       "    </tr>\n",
       "    <tr>\n",
       "      <th>50%</th>\n",
       "      <td>36.000000</td>\n",
       "      <td>9.000000</td>\n",
       "      <td>95000.000000</td>\n",
       "    </tr>\n",
       "    <tr>\n",
       "      <th>75%</th>\n",
       "      <td>44.000000</td>\n",
       "      <td>15.000000</td>\n",
       "      <td>140000.000000</td>\n",
       "    </tr>\n",
       "    <tr>\n",
       "      <th>max</th>\n",
       "      <td>53.000000</td>\n",
       "      <td>25.000000</td>\n",
       "      <td>250000.000000</td>\n",
       "    </tr>\n",
       "  </tbody>\n",
       "</table>\n",
       "</div>"
      ],
      "text/plain": [
       "              Age  Years of Experience         Salary\n",
       "count  373.000000           373.000000     373.000000\n",
       "mean    37.431635            10.030831  100577.345845\n",
       "std      7.069073             6.557007   48240.013482\n",
       "min     23.000000             0.000000     350.000000\n",
       "25%     31.000000             4.000000   55000.000000\n",
       "50%     36.000000             9.000000   95000.000000\n",
       "75%     44.000000            15.000000  140000.000000\n",
       "max     53.000000            25.000000  250000.000000"
      ]
     },
     "execution_count": 23,
     "metadata": {},
     "output_type": "execute_result"
    }
   ],
   "source": [
    "df.describe()"
   ]
  },
  {
   "cell_type": "code",
   "execution_count": 25,
   "id": "90e04942-f3fc-4618-890c-fc1e46f8d147",
   "metadata": {},
   "outputs": [
    {
     "name": "stdout",
     "output_type": "stream",
     "text": [
      "[\"Bachelor's\" \"Master's\" 'PhD' nan]\n",
      "['Software Engineer' 'Data Analyst' 'Senior Manager' 'Sales Associate'\n",
      " 'Director' 'Marketing Analyst' 'Product Manager' 'Sales Manager'\n",
      " 'Marketing Coordinator' 'Senior Scientist' 'Software Developer'\n",
      " 'HR Manager' 'Financial Analyst' 'Project Manager' 'Customer Service Rep'\n",
      " 'Operations Manager' 'Marketing Manager' 'Senior Engineer'\n",
      " 'Data Entry Clerk' 'Sales Director' 'Business Analyst' 'VP of Operations'\n",
      " 'IT Support' 'Recruiter' 'Financial Manager' 'Social Media Specialist'\n",
      " 'Software Manager' 'Junior Developer' 'Senior Consultant'\n",
      " 'Product Designer' 'CEO' 'Accountant' 'Data Scientist'\n",
      " 'Marketing Specialist' 'Technical Writer' 'HR Generalist'\n",
      " 'Project Engineer' 'Customer Success Rep' 'Sales Executive' 'UX Designer'\n",
      " 'Operations Director' 'Network Engineer' 'Administrative Assistant'\n",
      " 'Strategy Consultant' 'Copywriter' 'Account Manager'\n",
      " 'Director of Marketing' 'Help Desk Analyst' 'Customer Service Manager'\n",
      " 'Business Intelligence Analyst' 'Event Coordinator' 'VP of Finance'\n",
      " 'Graphic Designer' 'UX Researcher' 'Social Media Manager'\n",
      " 'Director of Operations' 'Senior Data Scientist' 'Junior Accountant'\n",
      " 'Digital Marketing Manager' 'IT Manager'\n",
      " 'Customer Service Representative' 'Business Development Manager'\n",
      " 'Senior Financial Analyst' 'Web Developer' 'Research Director'\n",
      " 'Technical Support Specialist' 'Creative Director'\n",
      " 'Senior Software Engineer' 'Human Resources Director'\n",
      " 'Content Marketing Manager' 'Technical Recruiter' 'Sales Representative'\n",
      " 'Chief Technology Officer' 'Junior Designer' 'Financial Advisor'\n",
      " 'Junior Account Manager' 'Senior Project Manager' 'Principal Scientist'\n",
      " 'Supply Chain Manager' 'Senior Marketing Manager' 'Training Specialist'\n",
      " 'Research Scientist' 'Junior Software Developer'\n",
      " 'Public Relations Manager' 'Operations Analyst'\n",
      " 'Product Marketing Manager' 'Senior HR Manager' 'Junior Web Developer'\n",
      " 'Senior Project Coordinator' 'Chief Data Officer'\n",
      " 'Digital Content Producer' 'IT Support Specialist'\n",
      " 'Senior Marketing Analyst' 'Customer Success Manager'\n",
      " 'Senior Graphic Designer' 'Software Project Manager'\n",
      " 'Supply Chain Analyst' 'Senior Business Analyst'\n",
      " 'Junior Marketing Analyst' 'Office Manager' 'Principal Engineer'\n",
      " 'Junior HR Generalist' 'Senior Product Manager'\n",
      " 'Junior Operations Analyst' 'Senior HR Generalist'\n",
      " 'Sales Operations Manager' 'Senior Software Developer'\n",
      " 'Junior Web Designer' 'Senior Training Specialist'\n",
      " 'Senior Research Scientist' 'Junior Sales Representative'\n",
      " 'Junior Marketing Manager' 'Junior Data Analyst'\n",
      " 'Senior Product Marketing Manager' 'Junior Business Analyst'\n",
      " 'Senior Sales Manager' 'Junior Marketing Specialist'\n",
      " 'Junior Project Manager' 'Senior Accountant' 'Director of Sales'\n",
      " 'Junior Recruiter' 'Senior Business Development Manager'\n",
      " 'Senior Product Designer' 'Junior Customer Support Specialist'\n",
      " 'Senior IT Support Specialist' 'Junior Financial Analyst'\n",
      " 'Senior Operations Manager' 'Director of Human Resources'\n",
      " 'Junior Software Engineer' 'Senior Sales Representative'\n",
      " 'Director of Product Management' 'Junior Copywriter'\n",
      " 'Senior Marketing Coordinator' 'Senior Human Resources Manager'\n",
      " 'Junior Business Development Associate' 'Senior Account Manager'\n",
      " 'Senior Researcher' 'Junior HR Coordinator' 'Director of Finance'\n",
      " 'Junior Marketing Coordinator' nan 'Junior Data Scientist'\n",
      " 'Senior Operations Analyst' 'Senior Human Resources Coordinator'\n",
      " 'Senior UX Designer' 'Junior Product Manager'\n",
      " 'Senior Marketing Specialist' 'Senior IT Project Manager'\n",
      " 'Senior Quality Assurance Analyst' 'Director of Sales and Marketing'\n",
      " 'Senior Account Executive' 'Director of Business Development'\n",
      " 'Junior Social Media Manager' 'Senior Human Resources Specialist'\n",
      " 'Senior Data Analyst' 'Director of Human Capital'\n",
      " 'Junior Advertising Coordinator' 'Junior UX Designer'\n",
      " 'Senior Marketing Director' 'Senior IT Consultant'\n",
      " 'Senior Financial Advisor' 'Junior Business Operations Analyst'\n",
      " 'Junior Social Media Specialist' 'Senior Product Development Manager'\n",
      " 'Junior Operations Manager' 'Senior Software Architect'\n",
      " 'Junior Research Scientist' 'Senior Financial Manager'\n",
      " 'Senior HR Specialist' 'Senior Data Engineer'\n",
      " 'Junior Operations Coordinator' 'Director of HR'\n",
      " 'Senior Operations Coordinator' 'Junior Financial Advisor'\n",
      " 'Director of Engineering']\n"
     ]
    }
   ],
   "source": [
    "education=df['Education Level'].unique()\n",
    "job=df['Job Title'].unique()\n",
    "print(df['Education Level'].unique())  \n",
    "print(df['Job Title'].unique())"
   ]
  },
  {
   "cell_type": "code",
   "execution_count": 27,
   "id": "b9d9f0b4-0302-4cb7-b05f-fb4acc1d2c49",
   "metadata": {},
   "outputs": [],
   "source": [
    "df.fillna({'Education Level': df['Education Level'].mode()[0]}, inplace=True)"
   ]
  },
  {
   "cell_type": "code",
   "execution_count": 29,
   "id": "cfab1f0e-92d0-4f93-883a-a09f6bad6984",
   "metadata": {},
   "outputs": [],
   "source": [
    "df.fillna({'Years of Experience':df['Years of Experience'].mean()},inplace=True)"
   ]
  },
  {
   "cell_type": "code",
   "execution_count": 31,
   "id": "c7f4471d-3ec5-4236-b7ac-9eba2b3d02e6",
   "metadata": {},
   "outputs": [],
   "source": [
    "df.fillna({'Salary':df['Salary'].mean()},inplace=True)"
   ]
  },
  {
   "cell_type": "code",
   "execution_count": 33,
   "id": "8013a56c-c647-415f-8af8-9ab37ce6b8cd",
   "metadata": {},
   "outputs": [
    {
     "name": "stdout",
     "output_type": "stream",
     "text": [
      "    Age  Gender  Education Level  Job Title  Years of Experience    Salary\n",
      "0  32.0    Male                0        159                  5.0   90000.0\n",
      "1  28.0  Female                1         17                  3.0   65000.0\n",
      "2  45.0    Male                2        130                 15.0  150000.0\n",
      "3  36.0  Female                0        101                  7.0   60000.0\n",
      "4  52.0    Male                1         22                 20.0  200000.0\n"
     ]
    }
   ],
   "source": [
    "# Initialize LabelEncoder\n",
    "label_encoder_edu = LabelEncoder()\n",
    "label_encoder_job = LabelEncoder()\n",
    "# Encode Categorical Columns\n",
    "df['Education Level'] = label_encoder_edu.fit_transform(df['Education Level'])\n",
    "df['Job Title'] = label_encoder_job.fit_transform(df['Job Title'])\n",
    "\n",
    "# Print Encoded DataFrame\n",
    "print(df.head())"
   ]
  },
  {
   "cell_type": "code",
   "execution_count": 35,
   "id": "0fffc952-9036-4600-92b3-4f40c4781b32",
   "metadata": {},
   "outputs": [
    {
     "data": {
      "text/plain": [
       "{\"Bachelor's\": 0, \"Master's\": 1, 'PhD': 2}"
      ]
     },
     "execution_count": 35,
     "metadata": {},
     "output_type": "execute_result"
    }
   ],
   "source": [
    "dict(zip(label_encoder_edu.classes_,label_encoder_edu.transform(label_encoder_edu.classes_)))"
   ]
  },
  {
   "cell_type": "code",
   "execution_count": 37,
   "id": "f64507a1-d3de-486b-bb91-eb1890ddcd33",
   "metadata": {},
   "outputs": [
    {
     "name": "stdout",
     "output_type": "stream",
     "text": [
      "\n",
      "Education Level Mapping: {\"Bachelor's\": 0, \"Master's\": 1, 'PhD': 2}\n",
      "Job Title Mapping: {'Software Engineer': 0, 'Data Analyst': 1, 'Senior Manager': 2, 'Sales Associate': 3, 'Director': 4, 'Marketing Analyst': 5, 'Product Manager': 6, 'Sales Manager': 7, 'Marketing Coordinator': 8, 'Senior Scientist': 9, 'Software Developer': 10, 'HR Manager': 11, 'Financial Analyst': 12, 'Project Manager': 13, 'Customer Service Rep': 14, 'Operations Manager': 15, 'Marketing Manager': 16, 'Senior Engineer': 17, 'Data Entry Clerk': 18, 'Sales Director': 19, 'Business Analyst': 20, 'VP of Operations': 21, 'IT Support': 22, 'Recruiter': 23, 'Financial Manager': 24, 'Social Media Specialist': 25, 'Software Manager': 26, 'Junior Developer': 27, 'Senior Consultant': 28, 'Product Designer': 29, 'CEO': 30, 'Accountant': 31, 'Data Scientist': 32, 'Marketing Specialist': 33, 'Technical Writer': 34, 'HR Generalist': 35, 'Project Engineer': 36, 'Customer Success Rep': 37, 'Sales Executive': 38, 'UX Designer': 39, 'Operations Director': 40, 'Network Engineer': 41, 'Administrative Assistant': 42, 'Strategy Consultant': 43, 'Copywriter': 44, 'Account Manager': 45, 'Director of Marketing': 46, 'Help Desk Analyst': 47, 'Customer Service Manager': 48, 'Business Intelligence Analyst': 49, 'Event Coordinator': 50, 'VP of Finance': 51, 'Graphic Designer': 52, 'UX Researcher': 53, 'Social Media Manager': 54, 'Director of Operations': 55, 'Senior Data Scientist': 56, 'Junior Accountant': 57, 'Digital Marketing Manager': 58, 'IT Manager': 59, 'Customer Service Representative': 60, 'Business Development Manager': 61, 'Senior Financial Analyst': 62, 'Web Developer': 63, 'Research Director': 64, 'Technical Support Specialist': 65, 'Creative Director': 66, 'Senior Software Engineer': 67, 'Human Resources Director': 68, 'Content Marketing Manager': 69, 'Technical Recruiter': 70, 'Sales Representative': 71, 'Chief Technology Officer': 72, 'Junior Designer': 73, 'Financial Advisor': 74, 'Junior Account Manager': 75, 'Senior Project Manager': 76, 'Principal Scientist': 77, 'Supply Chain Manager': 78, 'Senior Marketing Manager': 79, 'Training Specialist': 80, 'Research Scientist': 81, 'Junior Software Developer': 82, 'Public Relations Manager': 83, 'Operations Analyst': 84, 'Product Marketing Manager': 85, 'Senior HR Manager': 86, 'Junior Web Developer': 87, 'Senior Project Coordinator': 88, 'Chief Data Officer': 89, 'Digital Content Producer': 90, 'IT Support Specialist': 91, 'Senior Marketing Analyst': 92, 'Customer Success Manager': 93, 'Senior Graphic Designer': 94, 'Software Project Manager': 95, 'Supply Chain Analyst': 96, 'Senior Business Analyst': 97, 'Junior Marketing Analyst': 98, 'Office Manager': 99, 'Principal Engineer': 100, 'Junior HR Generalist': 101, 'Senior Product Manager': 102, 'Junior Operations Analyst': 103, 'Senior HR Generalist': 104, 'Sales Operations Manager': 105, 'Senior Software Developer': 106, 'Junior Web Designer': 107, 'Senior Training Specialist': 108, 'Senior Research Scientist': 109, 'Junior Sales Representative': 110, 'Junior Marketing Manager': 111, 'Junior Data Analyst': 112, 'Senior Product Marketing Manager': 113, 'Junior Business Analyst': 114, 'Senior Sales Manager': 115, 'Junior Marketing Specialist': 116, 'Junior Project Manager': 117, 'Senior Accountant': 118, 'Director of Sales': 119, 'Junior Recruiter': 120, 'Senior Business Development Manager': 121, 'Senior Product Designer': 122, 'Junior Customer Support Specialist': 123, 'Senior IT Support Specialist': 124, 'Junior Financial Analyst': 125, 'Senior Operations Manager': 126, 'Director of Human Resources': 127, 'Junior Software Engineer': 128, 'Senior Sales Representative': 129, 'Director of Product Management': 130, 'Junior Copywriter': 131, 'Senior Marketing Coordinator': 132, 'Senior Human Resources Manager': 133, 'Junior Business Development Associate': 134, 'Senior Account Manager': 135, 'Senior Researcher': 136, 'Junior HR Coordinator': 137, 'Director of Finance': 138, 'Junior Marketing Coordinator': 139, nan: 140, 'Junior Data Scientist': 141, 'Senior Operations Analyst': 142, 'Senior Human Resources Coordinator': 143, 'Senior UX Designer': 144, 'Junior Product Manager': 145, 'Senior Marketing Specialist': 146, 'Senior IT Project Manager': 147, 'Senior Quality Assurance Analyst': 148, 'Director of Sales and Marketing': 149, 'Senior Account Executive': 150, 'Director of Business Development': 151, 'Junior Social Media Manager': 152, 'Senior Human Resources Specialist': 153, 'Senior Data Analyst': 154, 'Director of Human Capital': 155, 'Junior Advertising Coordinator': 156, 'Junior UX Designer': 157, 'Senior Marketing Director': 158, 'Senior IT Consultant': 159, 'Senior Financial Advisor': 160, 'Junior Business Operations Analyst': 161, 'Junior Social Media Specialist': 162, 'Senior Product Development Manager': 163, 'Junior Operations Manager': 164, 'Senior Software Architect': 165, 'Junior Research Scientist': 166, 'Senior Financial Manager': 167, 'Senior HR Specialist': 168, 'Senior Data Engineer': 169, 'Junior Operations Coordinator': 170, 'Director of HR': 171, 'Senior Operations Coordinator': 172, 'Junior Financial Advisor': 173, 'Director of Engineering': 174}\n"
     ]
    }
   ],
   "source": [
    "edu_mapping = dict(zip(education, label_encoder_edu.transform(label_encoder_edu.classes_)))\n",
    "job_mapping = dict(zip(job, label_encoder_job.transform(label_encoder_job.classes_)))\n",
    "\n",
    "print(\"\\nEducation Level Mapping:\", edu_mapping)\n",
    "print(\"Job Title Mapping:\", job_mapping)"
   ]
  },
  {
   "cell_type": "code",
   "execution_count": 39,
   "id": "d694896b-6500-43b0-a9ea-6b50a50f9a20",
   "metadata": {},
   "outputs": [
    {
     "data": {
      "text/plain": [
       "Index(['Age', 'Gender', 'Education Level', 'Job Title', 'Years of Experience',\n",
       "       'Salary'],\n",
       "      dtype='object')"
      ]
     },
     "execution_count": 39,
     "metadata": {},
     "output_type": "execute_result"
    }
   ],
   "source": [
    "df.columns\n"
   ]
  },
  {
   "cell_type": "code",
   "execution_count": 41,
   "id": "55272183-f611-43e9-9fcb-413118be781b",
   "metadata": {},
   "outputs": [],
   "source": [
    "X=df[[\"Education Level\",\"Job Title\",\"Years of Experience\"]]\n",
    "y=df[\"Salary\"]"
   ]
  },
  {
   "cell_type": "code",
   "execution_count": 43,
   "id": "7e3d1c34-6fcd-4eda-afb7-d2819049d24b",
   "metadata": {},
   "outputs": [
    {
     "name": "stdout",
     "output_type": "stream",
     "text": [
      "Education Level        0\n",
      "Job Title              0\n",
      "Years of Experience    0\n",
      "dtype: int64\n"
     ]
    }
   ],
   "source": [
    "print(X.isnull().sum())  # Shows count of missing values per column"
   ]
  },
  {
   "cell_type": "code",
   "execution_count": 45,
   "id": "40373e89-2bb5-4e10-9c46-7b9d25dc3477",
   "metadata": {},
   "outputs": [],
   "source": [
    "from sklearn.model_selection import train_test_split\n",
    "X_train, X_test, y_train, y_test = train_test_split(X, y, test_size = 0.2, random_state = 0)\n",
    "\n",
    "# Apply Feature Scaling using StandardScaler\n",
    "from sklearn.preprocessing import StandardScaler\n",
    "\n",
    "scaler = StandardScaler()\n",
    "X_train = scaler.fit_transform(X_train)\n",
    "X_test = scaler.transform(X_test)"
   ]
  },
  {
   "cell_type": "code",
   "execution_count": 47,
   "id": "bc6527fd-3282-4694-9ab5-b6b273172c01",
   "metadata": {},
   "outputs": [
    {
     "data": {
      "text/html": [
       "<style>#sk-container-id-1 {color: black;background-color: white;}#sk-container-id-1 pre{padding: 0;}#sk-container-id-1 div.sk-toggleable {background-color: white;}#sk-container-id-1 label.sk-toggleable__label {cursor: pointer;display: block;width: 100%;margin-bottom: 0;padding: 0.3em;box-sizing: border-box;text-align: center;}#sk-container-id-1 label.sk-toggleable__label-arrow:before {content: \"▸\";float: left;margin-right: 0.25em;color: #696969;}#sk-container-id-1 label.sk-toggleable__label-arrow:hover:before {color: black;}#sk-container-id-1 div.sk-estimator:hover label.sk-toggleable__label-arrow:before {color: black;}#sk-container-id-1 div.sk-toggleable__content {max-height: 0;max-width: 0;overflow: hidden;text-align: left;background-color: #f0f8ff;}#sk-container-id-1 div.sk-toggleable__content pre {margin: 0.2em;color: black;border-radius: 0.25em;background-color: #f0f8ff;}#sk-container-id-1 input.sk-toggleable__control:checked~div.sk-toggleable__content {max-height: 200px;max-width: 100%;overflow: auto;}#sk-container-id-1 input.sk-toggleable__control:checked~label.sk-toggleable__label-arrow:before {content: \"▾\";}#sk-container-id-1 div.sk-estimator input.sk-toggleable__control:checked~label.sk-toggleable__label {background-color: #d4ebff;}#sk-container-id-1 div.sk-label input.sk-toggleable__control:checked~label.sk-toggleable__label {background-color: #d4ebff;}#sk-container-id-1 input.sk-hidden--visually {border: 0;clip: rect(1px 1px 1px 1px);clip: rect(1px, 1px, 1px, 1px);height: 1px;margin: -1px;overflow: hidden;padding: 0;position: absolute;width: 1px;}#sk-container-id-1 div.sk-estimator {font-family: monospace;background-color: #f0f8ff;border: 1px dotted black;border-radius: 0.25em;box-sizing: border-box;margin-bottom: 0.5em;}#sk-container-id-1 div.sk-estimator:hover {background-color: #d4ebff;}#sk-container-id-1 div.sk-parallel-item::after {content: \"\";width: 100%;border-bottom: 1px solid gray;flex-grow: 1;}#sk-container-id-1 div.sk-label:hover label.sk-toggleable__label {background-color: #d4ebff;}#sk-container-id-1 div.sk-serial::before {content: \"\";position: absolute;border-left: 1px solid gray;box-sizing: border-box;top: 0;bottom: 0;left: 50%;z-index: 0;}#sk-container-id-1 div.sk-serial {display: flex;flex-direction: column;align-items: center;background-color: white;padding-right: 0.2em;padding-left: 0.2em;position: relative;}#sk-container-id-1 div.sk-item {position: relative;z-index: 1;}#sk-container-id-1 div.sk-parallel {display: flex;align-items: stretch;justify-content: center;background-color: white;position: relative;}#sk-container-id-1 div.sk-item::before, #sk-container-id-1 div.sk-parallel-item::before {content: \"\";position: absolute;border-left: 1px solid gray;box-sizing: border-box;top: 0;bottom: 0;left: 50%;z-index: -1;}#sk-container-id-1 div.sk-parallel-item {display: flex;flex-direction: column;z-index: 1;position: relative;background-color: white;}#sk-container-id-1 div.sk-parallel-item:first-child::after {align-self: flex-end;width: 50%;}#sk-container-id-1 div.sk-parallel-item:last-child::after {align-self: flex-start;width: 50%;}#sk-container-id-1 div.sk-parallel-item:only-child::after {width: 0;}#sk-container-id-1 div.sk-dashed-wrapped {border: 1px dashed gray;margin: 0 0.4em 0.5em 0.4em;box-sizing: border-box;padding-bottom: 0.4em;background-color: white;}#sk-container-id-1 div.sk-label label {font-family: monospace;font-weight: bold;display: inline-block;line-height: 1.2em;}#sk-container-id-1 div.sk-label-container {text-align: center;}#sk-container-id-1 div.sk-container {/* jupyter's `normalize.less` sets `[hidden] { display: none; }` but bootstrap.min.css set `[hidden] { display: none !important; }` so we also need the `!important` here to be able to override the default hidden behavior on the sphinx rendered scikit-learn.org. See: https://github.com/scikit-learn/scikit-learn/issues/21755 */display: inline-block !important;position: relative;}#sk-container-id-1 div.sk-text-repr-fallback {display: none;}</style><div id=\"sk-container-id-1\" class=\"sk-top-container\"><div class=\"sk-text-repr-fallback\"><pre>LinearRegression()</pre><b>In a Jupyter environment, please rerun this cell to show the HTML representation or trust the notebook. <br />On GitHub, the HTML representation is unable to render, please try loading this page with nbviewer.org.</b></div><div class=\"sk-container\" hidden><div class=\"sk-item\"><div class=\"sk-estimator sk-toggleable\"><input class=\"sk-toggleable__control sk-hidden--visually\" id=\"sk-estimator-id-1\" type=\"checkbox\" checked><label for=\"sk-estimator-id-1\" class=\"sk-toggleable__label sk-toggleable__label-arrow\">LinearRegression</label><div class=\"sk-toggleable__content\"><pre>LinearRegression()</pre></div></div></div></div></div>"
      ],
      "text/plain": [
       "LinearRegression()"
      ]
     },
     "execution_count": 47,
     "metadata": {},
     "output_type": "execute_result"
    }
   ],
   "source": [
    "from sklearn.linear_model import LinearRegression\n",
    "regressor = LinearRegression()\n",
    "regressor.fit(X_train, y_train)"
   ]
  },
  {
   "cell_type": "code",
   "execution_count": 49,
   "id": "1570504d-d6b9-41f7-a1d8-d19e30786f45",
   "metadata": {},
   "outputs": [],
   "source": [
    "# Prediction result\n",
    "y_pred_test = regressor.predict(X_test)     # predicted value of y_test\n",
    "y_pred_train = regressor.predict(X_train)   # predicted value of y_train"
   ]
  },
  {
   "cell_type": "code",
   "execution_count": 51,
   "id": "199f40d6-3463-4467-a2be-c82482b6c4fd",
   "metadata": {},
   "outputs": [
    {
     "name": "stdout",
     "output_type": "stream",
     "text": [
      "Coefficient: [12155.37093403    31.8152662   6040.66768154]\n",
      "Intercept: 30560.88066558128\n"
     ]
    }
   ],
   "source": [
    "# Regressor coefficients and intercept\n",
    "print(f'Coefficient: {regressor.coef_}')\n",
    "print(f'Intercept: {regressor.intercept_}')"
   ]
  },
  {
   "cell_type": "code",
   "execution_count": 53,
   "id": "42cd66f3-bcc3-425c-921c-d0dee0a771ff",
   "metadata": {},
   "outputs": [
    {
     "data": {
      "text/plain": [
       "array([ 62864.02664279, 107312.13851549, 149903.95975919, 101122.79954148,\n",
       "        76313.41845268, 161370.40002583, 164484.06321652,  82385.90140042,\n",
       "       166287.12835165, 104130.611895  , 164356.8021517 ,  44646.57779957,\n",
       "       182606.06626113,  83181.28305555, 106803.09425622,  89476.47286672,\n",
       "        49891.86382598,  56632.46736403,  44869.284663  ,  82682.64383481,\n",
       "       155181.06105181, 130308.04943061, 125752.29422216, 101918.1811966 ,\n",
       "        44201.1640727 , 164865.84641098, 107789.36750857,  44232.9793389 ,\n",
       "       118163.08353512,  61379.11416971,  82672.23879627,  69413.73858361,\n",
       "       103791.04900529, 125221.83973522, 162070.33588234, 158411.58026877,\n",
       "        50337.27755285,  53845.24542524,  65865.0667046 , 114254.03868931,\n",
       "       127635.5670694 , 170492.91563185,  41212.64549813, 148981.31703925,\n",
       "        42960.36869071, 130043.12226242,  83181.28305555, 158443.39553498,\n",
       "        45219.25259125,  91168.85411673,  50750.87601351,  58032.33907704,\n",
       "       144202.85496736, 100581.94001599,  87959.74512743,  82640.42353006,\n",
       "       144510.60259087,  73015.03580592, 124214.15625521, 125508.17713106,\n",
       "        44519.31673475,  44646.57779957,  95262.61841862,  62227.7213187 ,\n",
       "        83276.72885416,  38096.86585875,  88235.67748473, 155149.24578561,\n",
       "        51069.02867556, 170492.91563185, 131792.96190369,  60206.18221752,\n",
       "        39210.40017592,  50782.69127972,  89094.68967227])"
      ]
     },
     "execution_count": 53,
     "metadata": {},
     "output_type": "execute_result"
    }
   ],
   "source": [
    "y_pred_test"
   ]
  },
  {
   "cell_type": "code",
   "execution_count": 57,
   "id": "0f0b0417-0cba-4293-ba81-13a4b1d9ff55",
   "metadata": {},
   "outputs": [
    {
     "name": "stdout",
     "output_type": "stream",
     "text": [
      "Mean Absolute Error (MAE): 9548.21\n",
      "Mean Squared Error (MSE): 151045220.90\n",
      "R² Score: 0.92\n",
      "RMSE: 12290.05\n"
     ]
    }
   ],
   "source": [
    "from sklearn.metrics import mean_absolute_error, mean_squared_error, r2_score\n",
    "# Evaluate Model Performance\n",
    "mae = mean_absolute_error(y_test, y_pred_test)\n",
    "mse = mean_squared_error(y_test, y_pred_test)\n",
    "r2 = r2_score(y_test, y_pred_test)\n",
    "\n",
    "# Print Model Evaluation Metrics\n",
    "print(f\"Mean Absolute Error (MAE): {mae:.2f}\")\n",
    "print(f\"Mean Squared Error (MSE): {mse:.2f}\")\n",
    "print(f\"R² Score: {r2:.2f}\")\n",
    "rmse = np.sqrt(mse)\n",
    "print(f\"RMSE: {rmse:.2f}\")\n"
   ]
  },
  {
   "cell_type": "code",
   "execution_count": null,
   "id": "6595aeba-c063-4ecf-9f88-73d07e22a8c7",
   "metadata": {},
   "outputs": [],
   "source": []
  }
 ],
 "metadata": {
  "kernelspec": {
   "display_name": "Python 3 (ipykernel)",
   "language": "python",
   "name": "python3"
  },
  "language_info": {
   "codemirror_mode": {
    "name": "ipython",
    "version": 3
   },
   "file_extension": ".py",
   "mimetype": "text/x-python",
   "name": "python",
   "nbconvert_exporter": "python",
   "pygments_lexer": "ipython3",
   "version": "3.11.7"
  }
 },
 "nbformat": 4,
 "nbformat_minor": 5
}
