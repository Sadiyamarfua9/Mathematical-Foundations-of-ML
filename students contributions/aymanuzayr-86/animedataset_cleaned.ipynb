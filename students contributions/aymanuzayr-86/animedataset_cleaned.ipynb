import pandas as pd

df = pd.read_csv("https://raw.githubusercontent.com/mssanamateen/Mathematical-Foundations-of-ML/refs/heads/main/students%20contributions/aymanuzayr-86/anime-dataset-2023.csv")

df.head()

# Replace "Unknown" (case-insensitive) with NaN
df.replace("(?i)^unknown$", pd.NA, regex=True, inplace=True)

# Drop rows with any NaN values
df_cleaned = df.dropna()

df.isnull().sum()

drop_cols = ["English name", "Premiered", "Producers", "Licensors", "Scored By"]
df.drop(columns=drop_cols, inplace=True)

df.dropna(inplace=True)
df.reset_index(drop=True, inplace=True)

df.isnull().sum()

df.head()
