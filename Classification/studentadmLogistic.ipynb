{
 "cells": [
  {
   "cell_type": "markdown",
   "id": "3f4956f8-cbcd-443a-870f-e1ccbebfaa6a",
   "metadata": {},
   "source": [
    "**Initialization of Pandas, sklearn, numpy, matplotlib.**"
   ]
  },
  {
   "cell_type": "code",
   "execution_count": 137,
   "id": "e5ecf6ad-bf2f-48bc-b982-84074597365f",
   "metadata": {},
   "outputs": [],
   "source": [
    "import pandas as pd\n",
    "import numpy as np\n",
    "import matplotlib.pyplot as plt\n",
    "#to view the plots in the jupyter notebook inline\n",
    "%matplotlib inline\n",
    "#to create the confusion matrix\n",
    "from sklearn import metrics\n",
    "#to split the dataset into train and test\n",
    "from sklearn.model_selection import train_test_split\n",
    "#to apply logistic regresison\n",
    "from sklearn.linear_model import LogisticRegression"
   ]
  },
  {
   "cell_type": "markdown",
   "id": "8ef26b50-59d7-4980-ac7b-69558f3edbc9",
   "metadata": {},
   "source": [
    "- **Marks1**- Marks of the student in the 1st subject\n",
    "- Marks2- Marks of the student in the 2nd subject\n",
    "- Admission- Response variable which has value either 0 or 1.\n",
    "- **1** means the student will **get admission** and **0** means **no admission**."
   ]
  },
  {
   "cell_type": "code",
   "execution_count": 140,
   "id": "e46774e0-933f-41f9-a36d-155eeb6446c7",
   "metadata": {},
   "outputs": [],
   "source": [
    "df=pd.read_csv(\"./datasets/student_data_synthetic_extreme_noisy.csv\")\n"
   ]
  },
  {
   "cell_type": "code",
   "execution_count": 142,
   "id": "ec2da609-88c8-4693-a320-89cf567177c1",
   "metadata": {},
   "outputs": [
    {
     "data": {
      "text/html": [
       "<div>\n",
       "<style scoped>\n",
       "    .dataframe tbody tr th:only-of-type {\n",
       "        vertical-align: middle;\n",
       "    }\n",
       "\n",
       "    .dataframe tbody tr th {\n",
       "        vertical-align: top;\n",
       "    }\n",
       "\n",
       "    .dataframe thead th {\n",
       "        text-align: right;\n",
       "    }\n",
       "</style>\n",
       "<table border=\"1\" class=\"dataframe\">\n",
       "  <thead>\n",
       "    <tr style=\"text-align: right;\">\n",
       "      <th></th>\n",
       "      <th>Marks 1</th>\n",
       "      <th>Marks 2</th>\n",
       "      <th>Admission</th>\n",
       "    </tr>\n",
       "  </thead>\n",
       "  <tbody>\n",
       "    <tr>\n",
       "      <th>0</th>\n",
       "      <td>92.934283</td>\n",
       "      <td>79.481679</td>\n",
       "      <td>1</td>\n",
       "    </tr>\n",
       "    <tr>\n",
       "      <th>1</th>\n",
       "      <td>51.234714</td>\n",
       "      <td>56.298354</td>\n",
       "      <td>0</td>\n",
       "    </tr>\n",
       "    <tr>\n",
       "      <th>2</th>\n",
       "      <td>74.953771</td>\n",
       "      <td>53.461560</td>\n",
       "      <td>1</td>\n",
       "    </tr>\n",
       "    <tr>\n",
       "      <th>3</th>\n",
       "      <td>68.460597</td>\n",
       "      <td>50.233526</td>\n",
       "      <td>0</td>\n",
       "    </tr>\n",
       "    <tr>\n",
       "      <th>4</th>\n",
       "      <td>78.316933</td>\n",
       "      <td>83.619990</td>\n",
       "      <td>1</td>\n",
       "    </tr>\n",
       "  </tbody>\n",
       "</table>\n",
       "</div>"
      ],
      "text/plain": [
       "     Marks 1    Marks 2  Admission\n",
       "0  92.934283  79.481679          1\n",
       "1  51.234714  56.298354          0\n",
       "2  74.953771  53.461560          1\n",
       "3  68.460597  50.233526          0\n",
       "4  78.316933  83.619990          1"
      ]
     },
     "execution_count": 142,
     "metadata": {},
     "output_type": "execute_result"
    }
   ],
   "source": [
    "#check top records\n",
    "df.head()"
   ]
  },
  {
   "cell_type": "code",
   "execution_count": 144,
   "id": "7ab1b858-895c-4531-8868-2752d0e2c23d",
   "metadata": {},
   "outputs": [
    {
     "name": "stdout",
     "output_type": "stream",
     "text": [
      "<class 'pandas.core.frame.DataFrame'>\n",
      "RangeIndex: 50 entries, 0 to 49\n",
      "Data columns (total 3 columns):\n",
      " #   Column     Non-Null Count  Dtype  \n",
      "---  ------     --------------  -----  \n",
      " 0   Marks 1    50 non-null     float64\n",
      " 1   Marks 2    50 non-null     float64\n",
      " 2   Admission  50 non-null     int64  \n",
      "dtypes: float64(2), int64(1)\n",
      "memory usage: 1.3 KB\n"
     ]
    }
   ],
   "source": [
    "#check info about the data\n",
    "df.info()"
   ]
  },
  {
   "cell_type": "code",
   "execution_count": 146,
   "id": "b320cc01-ecdb-4099-99f8-a72cf5893010",
   "metadata": {},
   "outputs": [],
   "source": [
    "#split dataset in features and target variable\n",
    "feature_cols = ['Marks 1', 'Marks 2']\n",
    "X = df[feature_cols] # Features\n",
    "y = df.Admission # Target variable"
   ]
  },
  {
   "cell_type": "code",
   "execution_count": 148,
   "id": "e8e19163-5c91-488c-8ef2-0c68af108cb0",
   "metadata": {},
   "outputs": [
    {
     "name": "stdout",
     "output_type": "stream",
     "text": [
      "Admission\n",
      "1    35\n",
      "0    15\n",
      "Name: count, dtype: int64\n"
     ]
    }
   ],
   "source": [
    "#finding whether dataset is imbalanced?\n",
    "class_counts = df[\"Admission\"].value_counts()\n",
    "# Print class counts\n",
    "print(class_counts)"
   ]
  },
  {
   "cell_type": "code",
   "execution_count": 150,
   "id": "2f4ce73a-ec38-4dd0-b48e-b982250abc7e",
   "metadata": {},
   "outputs": [
    {
     "data": {
      "text/plain": [
       "<Axes: xlabel='Marks 1', ylabel='Marks 2'>"
      ]
     },
     "execution_count": 150,
     "metadata": {},
     "output_type": "execute_result"
    },
    {
     "data": {
      "image/png": "[encoded data removed]",
      "text/plain": [
       "<Figure size 640x480 with 1 Axes>"
      ]
     },
     "metadata": {},
     "output_type": "display_data"
    }
   ],
   "source": [
    "#visualize imbalanced dataset\n",
    "import seaborn as sns\n",
    "sns.scatterplot(x=df[\"Marks 1\"], y=df[\"Marks 2\"], hue=df[\"Admission\"])"
   ]
  },
  {
   "cell_type": "code",
   "execution_count": 152,
   "id": "3f89c9f4-0ac3-408b-8066-4daab4883bf2",
   "metadata": {},
   "outputs": [
    {
     "name": "stdout",
     "output_type": "stream",
     "text": [
      "     Marks 1    Marks 2\n",
      "0  92.934283  79.481679\n",
      "1  51.234714  56.298354\n",
      "2  74.953771  53.461560\n",
      "3  68.460597  50.233526\n",
      "4  78.316933  83.619990\n"
     ]
    }
   ],
   "source": [
    "print(X.head())\n"
   ]
  },
  {
   "cell_type": "code",
   "execution_count": 154,
   "id": "6e5405b9-31a5-4e33-9e59-90ec955d75fd",
   "metadata": {},
   "outputs": [
    {
     "name": "stdout",
     "output_type": "stream",
     "text": [
      "0    1\n",
      "1    0\n",
      "2    1\n",
      "3    0\n",
      "4    1\n",
      "Name: Admission, dtype: int64\n"
     ]
    }
   ],
   "source": [
    "print(y.head())"
   ]
  },
  {
   "cell_type": "markdown",
   "id": "75124f51-18f4-46d4-8d43-15395c8d00a4",
   "metadata": {},
   "source": [
    "**use the function train_test_split() which is a part of sklearn library. This has majorly 4 argument-**\n",
    "\n",
    "- **Independent variable X**\n",
    "- Dependent variable y\n",
    "- Test_size-->This basically says the **percentage of records we want to put in the test dataset**.\n",
    "- There is no specific rule on how much we should keep but ideally, it can be 40% or 30% or even 50%. This completely depends on the size of the dataset. If we have more samples, we can go ahead with more records in test dataset else less.\n",
    "-  for 100% records in our dataset and so **keep 25% records in test dataset** and **the remaining 75% in training dataset.**\n",
    "Random_state- to maintain the **reproducibility of the random splitted data**"
   ]
  },
  {
   "cell_type": "code",
   "execution_count": 157,
   "id": "ad38bea0-bca9-438e-9a5e-d4091487b627",
   "metadata": {},
   "outputs": [
    {
     "data": {
      "text/plain": [
       "(37, 2)"
      ]
     },
     "execution_count": 157,
     "metadata": {},
     "output_type": "execute_result"
    }
   ],
   "source": [
    "#split the dataset in train and test\n",
    "X_train,X_test,y_train,y_test=train_test_split(X,y,test_size=0.25,random_state=0,stratify=y)\n",
    "\n",
    "X_train.shape\n",
    "\n"
   ]
  },
  {
   "cell_type": "code",
   "execution_count": 161,
   "id": "6ad067eb-cc57-4aea-b06a-758685a2fd7e",
   "metadata": {},
   "outputs": [
    {
     "data": {
      "text/plain": [
       "(13, 2)"
      ]
     },
     "execution_count": 161,
     "metadata": {},
     "output_type": "execute_result"
    }
   ],
   "source": [
    "X_test.shape"
   ]
  },
  {
   "cell_type": "markdown",
   "id": "faa8ba39-d6fc-40b6-9536-85fac653f10e",
   "metadata": {},
   "source": [
    "**import the Logistic Regression module from sklearn.linear_model.**\n",
    "- And then  create the logistic regression in python using LogisticRegression() function."
   ]
  },
  {
   "cell_type": "code",
   "execution_count": 164,
   "id": "de688b4f-198d-4667-8fb1-6d620962e6de",
   "metadata": {},
   "outputs": [
    {
     "data": {
      "text/html": [
       "<style>#sk-container-id-4 {color: black;background-color: white;}#sk-container-id-4 pre{padding: 0;}#sk-container-id-4 div.sk-toggleable {background-color: white;}#sk-container-id-4 label.sk-toggleable__label {cursor: pointer;display: block;width: 100%;margin-bottom: 0;padding: 0.3em;box-sizing: border-box;text-align: center;}#sk-container-id-4 label.sk-toggleable__label-arrow:before {content: \"▸\";float: left;margin-right: 0.25em;color: #696969;}#sk-container-id-4 label.sk-toggleable__label-arrow:hover:before {color: black;}#sk-container-id-4 div.sk-estimator:hover label.sk-toggleable__label-arrow:before {color: black;}#sk-container-id-4 div.sk-toggleable__content {max-height: 0;max-width: 0;overflow: hidden;text-align: left;background-color: #f0f8ff;}#sk-container-id-4 div.sk-toggleable__content pre {margin: 0.2em;color: black;border-radius: 0.25em;background-color: #f0f8ff;}#sk-container-id-4 input.sk-toggleable__control:checked~div.sk-toggleable__content {max-height: 200px;max-width: 100%;overflow: auto;}#sk-container-id-4 input.sk-toggleable__control:checked~label.sk-toggleable__label-arrow:before {content: \"▾\";}#sk-container-id-4 div.sk-estimator input.sk-toggleable__control:checked~label.sk-toggleable__label {background-color: #d4ebff;}#sk-container-id-4 div.sk-label input.sk-toggleable__control:checked~label.sk-toggleable__label {background-color: #d4ebff;}#sk-container-id-4 input.sk-hidden--visually {border: 0;clip: rect(1px 1px 1px 1px);clip: rect(1px, 1px, 1px, 1px);height: 1px;margin: -1px;overflow: hidden;padding: 0;position: absolute;width: 1px;}#sk-container-id-4 div.sk-estimator {font-family: monospace;background-color: #f0f8ff;border: 1px dotted black;border-radius: 0.25em;box-sizing: border-box;margin-bottom: 0.5em;}#sk-container-id-4 div.sk-estimator:hover {background-color: #d4ebff;}#sk-container-id-4 div.sk-parallel-item::after {content: \"\";width: 100%;border-bottom: 1px solid gray;flex-grow: 1;}#sk-container-id-4 div.sk-label:hover label.sk-toggleable__label {background-color: #d4ebff;}#sk-container-id-4 div.sk-serial::before {content: \"\";position: absolute;border-left: 1px solid gray;box-sizing: border-box;top: 0;bottom: 0;left: 50%;z-index: 0;}#sk-container-id-4 div.sk-serial {display: flex;flex-direction: column;align-items: center;background-color: white;padding-right: 0.2em;padding-left: 0.2em;position: relative;}#sk-container-id-4 div.sk-item {position: relative;z-index: 1;}#sk-container-id-4 div.sk-parallel {display: flex;align-items: stretch;justify-content: center;background-color: white;position: relative;}#sk-container-id-4 div.sk-item::before, #sk-container-id-4 div.sk-parallel-item::before {content: \"\";position: absolute;border-left: 1px solid gray;box-sizing: border-box;top: 0;bottom: 0;left: 50%;z-index: -1;}#sk-container-id-4 div.sk-parallel-item {display: flex;flex-direction: column;z-index: 1;position: relative;background-color: white;}#sk-container-id-4 div.sk-parallel-item:first-child::after {align-self: flex-end;width: 50%;}#sk-container-id-4 div.sk-parallel-item:last-child::after {align-self: flex-start;width: 50%;}#sk-container-id-4 div.sk-parallel-item:only-child::after {width: 0;}#sk-container-id-4 div.sk-dashed-wrapped {border: 1px dashed gray;margin: 0 0.4em 0.5em 0.4em;box-sizing: border-box;padding-bottom: 0.4em;background-color: white;}#sk-container-id-4 div.sk-label label {font-family: monospace;font-weight: bold;display: inline-block;line-height: 1.2em;}#sk-container-id-4 div.sk-label-container {text-align: center;}#sk-container-id-4 div.sk-container {/* jupyter's `normalize.less` sets `[hidden] { display: none; }` but bootstrap.min.css set `[hidden] { display: none !important; }` so we also need the `!important` here to be able to override the default hidden behavior on the sphinx rendered scikit-learn.org. See: https://github.com/scikit-learn/scikit-learn/issues/21755 */display: inline-block !important;position: relative;}#sk-container-id-4 div.sk-text-repr-fallback {display: none;}</style><div id=\"sk-container-id-4\" class=\"sk-top-container\"><div class=\"sk-text-repr-fallback\"><pre>LogisticRegression(class_weight=&#x27;balanced&#x27;, max_iter=1000)</pre><b>In a Jupyter environment, please rerun this cell to show the HTML representation or trust the notebook. <br />On GitHub, the HTML representation is unable to render, please try loading this page with nbviewer.org.</b></div><div class=\"sk-container\" hidden><div class=\"sk-item\"><div class=\"sk-estimator sk-toggleable\"><input class=\"sk-toggleable__control sk-hidden--visually\" id=\"sk-estimator-id-4\" type=\"checkbox\" checked><label for=\"sk-estimator-id-4\" class=\"sk-toggleable__label sk-toggleable__label-arrow\">LogisticRegression</label><div class=\"sk-toggleable__content\"><pre>LogisticRegression(class_weight=&#x27;balanced&#x27;, max_iter=1000)</pre></div></div></div></div></div>"
      ],
      "text/plain": [
       "LogisticRegression(class_weight='balanced', max_iter=1000)"
      ]
     },
     "execution_count": 164,
     "metadata": {},
     "output_type": "execute_result"
    }
   ],
   "source": [
    "# instantiate the model using the default parameters\n",
    "m1 = LogisticRegression(class_weight='balanced', penalty='l2', solver='lbfgs', max_iter=1000)\n",
    "\n",
    "# fit the model with data\n",
    "m1.fit(X_train,y_train)"
   ]
  },
  {
   "cell_type": "code",
   "execution_count": 166,
   "id": "1cc9f809-e5fd-45b6-b49b-d3996d7b0c4f",
   "metadata": {},
   "outputs": [
    {
     "data": {
      "text/plain": [
       "0.9230769230769231"
      ]
     },
     "execution_count": 166,
     "metadata": {},
     "output_type": "execute_result"
    }
   ],
   "source": [
    "m1.score(X_test,y_test)"
   ]
  },
  {
   "cell_type": "code",
   "execution_count": 170,
   "id": "74ef51e0-63c7-4c06-9791-aed2ef21427e",
   "metadata": {},
   "outputs": [
    {
     "name": "stdout",
     "output_type": "stream",
     "text": [
      "Cross-Validation Accuracy: 0.78\n"
     ]
    }
   ],
   "source": [
    "from sklearn.model_selection import cross_val_score\n",
    "\n",
    "cv_scores = cross_val_score(m1, X, y, cv=5)\n",
    "print(\"Cross-Validation Accuracy:\", np.mean(cv_scores))\n"
   ]
  },
  {
   "cell_type": "markdown",
   "id": "5fe796e8-1aa8-4afa-ae71-faf68dc44421",
   "metadata": {},
   "source": [
    "**use the predict() function for the prediction on the test dataset.**\n",
    "**It takes the testing dataset (X_test in our case) as an argument.**"
   ]
  },
  {
   "cell_type": "code",
   "execution_count": 173,
   "id": "b77cbca0-a73a-448c-970d-325fb9faf8e4",
   "metadata": {},
   "outputs": [
    {
     "data": {
      "text/plain": [
       "17    0\n",
       "2     1\n",
       "20    1\n",
       "31    1\n",
       "24    1\n",
       "1     0\n",
       "12    0\n",
       "8     1\n",
       "11    1\n",
       "34    1\n",
       "33    1\n",
       "43    0\n",
       "13    1\n",
       "Name: Admission, dtype: int64"
      ]
     },
     "execution_count": 173,
     "metadata": {},
     "output_type": "execute_result"
    }
   ],
   "source": [
    "#prediction on test dataset\n",
    "y_pred=m1.predict(X_test)\n",
    "\n",
    "y_test"
   ]
  },
  {
   "cell_type": "code",
   "execution_count": 175,
   "id": "69f76cad-1a36-4b6d-8d3d-8387622fa85e",
   "metadata": {},
   "outputs": [
    {
     "data": {
      "text/plain": [
       "array([0, 1, 1, 1, 1, 0, 0, 1, 1, 1, 1, 0, 0], dtype=int64)"
      ]
     },
     "execution_count": 175,
     "metadata": {},
     "output_type": "execute_result"
    }
   ],
   "source": [
    "y_pred"
   ]
  },
  {
   "cell_type": "code",
   "execution_count": 207,
   "id": "0cfa6658-effb-4f2e-861e-d1de57d28edc",
   "metadata": {},
   "outputs": [
    {
     "name": "stderr",
     "output_type": "stream",
     "text": [
      "C:\\Users\\HP\\anaconda3\\Lib\\site-packages\\sklearn\\base.py:439: UserWarning: X does not have valid feature names, but LogisticRegression was fitted with feature names\n",
      "  warnings.warn(\n"
     ]
    },
    {
     "data": {
      "text/plain": [
       "array([1], dtype=int64)"
      ]
     },
     "execution_count": 207,
     "metadata": {},
     "output_type": "execute_result"
    }
   ],
   "source": [
    "#new prediction\n",
    "new_pred=m1.predict([[60,70]])\n",
    "new_pred"
   ]
  },
  {
   "cell_type": "markdown",
   "id": "c08135ad-3ccf-4bb0-baab-f1b216bf7733",
   "metadata": {},
   "source": [
    "**A confusion matrix** is basically a two-way frequency table which is used to find the accuracy and error of the model. This tells about the number of correct and incorrect predictions for both 1 and o."
   ]
  },
  {
   "cell_type": "markdown",
   "id": "f8a4d286-aa2d-4736-ae72-e887d0a81c04",
   "metadata": {},
   "source": [
    "### 🎓 **Confusion Matrix For Admission Data**\n",
    "\n",
    "|                     | **Predicted: Not Admitted (0)** | **Predicted: Admitted (1)** |\n",
    "|--------------------|---------------------------------|-----------------------------|\n",
    "| **Actual: Not Admitted (0)**  | ✅ **True Negative (TN)**   | ❌ **False Positive (FP)**    |\n",
    "| **Actual: Admitted (1)**      | ❌ **False Negative (FN)**   | ✅ **True Positive (TP)**    |\n",
    "\n",
    "---\n",
    "\n",
    "### ✅ **Meaning Of The Matrix:**\n",
    "- **True Negative (TN):** Student was **not admitted** and model also predicted **not admitted**. ✔️\n",
    "- **False Positive (FP):** Student was **not admitted**, but model **wrongly predicted admitted**. ❌\n",
    "- **False Negative (FN):** Student was **admitted**, but model **wrongly predicted not admitted**. ❌\n",
    "- **True Positive (TP):** Student was **admitted** and model also predicted **admitted**. ✔️\n"
   ]
  },
  {
   "cell_type": "code",
   "execution_count": 183,
   "id": "3ed805e3-4fc3-4a3f-9f7e-c7136aa1694c",
   "metadata": {},
   "outputs": [
    {
     "name": "stdout",
     "output_type": "stream",
     "text": [
      "[[4 1]\n",
      " [0 8]]\n",
      "actual correct matrix\n",
      "[8 0 1 4]\n"
     ]
    }
   ],
   "source": [
    "#confusion matrix\n",
    "c1 = metrics.confusion_matrix(y_pred, y_test)\n",
    "print(c1)\n",
    "\n",
    "print(\"actual correct matrix\")\n",
    "tp=c1[1][1]\n",
    "tn=c1[0][0]\n",
    "fp=c1[0][1]\n",
    "fn=c1[1][0]\n",
    "print(np.array([tp,fn,fp,tn]))"
   ]
  },
  {
   "cell_type": "markdown",
   "id": "635b0dc2-bece-4122-b17c-bdcbf245228f",
   "metadata": {},
   "source": [
    "### ✅ **Performance Metrics For Admission Data**\n",
    "\n",
    "- **Accuracy:**  \n",
    "   - This is derived directly from the **Confusion Matrix** we drew above.  \n",
    "   - It tells us **how often** the model's prediction was **correct** overall.  \n",
    "   - **Formula:**  \n",
    "   ```  \n",
    "   Accuracy = (TP + TN) / (TP + TN + FP + FN)  \n",
    "   ```  \n",
    "\n",
    "- **Precision:**  \n",
    "   - It's about **being precise**!  \n",
    "   - It shows **how accurate our model is**  \n",
    "   when it predicts that a student **got admission** (i.e., Admitted = 1).  \n",
    "   - **Formula:**  \n",
    "   ```  \n",
    "   Precision = TP / (TP + FP)  \n",
    "   ```  \n",
    "\n",
    "- **Recall:**  \n",
    "   - This metric tests **how correctly** our model is  \n",
    "   able to predict that the student **got admission**.  \n",
    "   - **Formula:**  \n",
    "   ```  \n",
    "   Recall = TP / (TP + FN)  \n",
    "   ```  \n",
    "- **classificati**on"
   ]
  },
  {
   "cell_type": "code",
   "execution_count": 186,
   "id": "dcd6386d-8026-4d41-97fe-2a6f41d9c10d",
   "metadata": {},
   "outputs": [
    {
     "name": "stdout",
     "output_type": "stream",
     "text": [
      "Accuracy: 0.9230769230769231\n",
      "Precision: 1.0\n",
      "Recall: 0.8888888888888888\n"
     ]
    }
   ],
   "source": [
    "#evaluation metrices\n",
    "print(\"Accuracy:\",metrics.accuracy_score(y_test, y_pred))\n",
    "print(\"Precision:\",metrics.precision_score(y_test, y_pred))\n",
    "print(\"Recall:\",metrics.recall_score(y_test, y_pred))"
   ]
  },
  {
   "cell_type": "code",
   "execution_count": 198,
   "id": "2824d440-8d56-419b-967b-fd7ebb42f324",
   "metadata": {},
   "outputs": [
    {
     "data": {
      "image/png": "[encoded data removed]",
      "text/plain": [
       "<Figure size 640x480 with 1 Axes>"
      ]
     },
     "metadata": {},
     "output_type": "display_data"
    }
   ],
   "source": [
    "# Plot Admitted students (predicted correctly)\n",
    "plt.scatter(X_test[y_pred==1]['Marks 1'], X_test[y_pred==1]['Marks 2'], color='blue', label='Admitted')\n",
    "\n",
    "# Plot Not Admitted students (predicted correctly)\n",
    "plt.scatter(X_test[y_pred==0]['Marks 1'], X_test[y_pred==0]['Marks 2'], color='red', label='Not Admitted')\n",
    "\n",
    "# Plot Misclassified points (highlight in yellow)\n",
    "misclassified = (y_test != y_pred)\n",
    "plt.scatter(X_test[misclassified]['Marks 1'], X_test[misclassified]['Marks 2'], \n",
    "            color='yellow', edgecolor='k', s=100, label='Misclassified')\n",
    "\n",
    "# Add labels and title\n",
    "plt.xlabel('Marks 1')\n",
    "plt.ylabel('Marks 2')\n",
    "plt.title('Admission Prediction (Super Simple)')\n",
    "\n",
    "# Add a simple legend\n",
    "plt.legend()\n",
    "\n",
    "# Show the plot\n",
    "plt.show()\n"
   ]
  },
  {
   "cell_type": "code",
   "execution_count": null,
   "id": "f96a0873-558f-4b3a-ba2d-0442524c351c",
   "metadata": {},
   "outputs": [],
   "source": []
  }
 ],
 "metadata": {
  "kernelspec": {
   "display_name": "Python 3 (ipykernel)",
   "language": "python",
   "name": "python3"
  },
  "language_info": {
   "codemirror_mode": {
    "name": "ipython",
    "version": 3
   },
   "file_extension": ".py",
   "mimetype": "text/x-python",
   "name": "python",
   "nbconvert_exporter": "python",
   "pygments_lexer": "ipython3",
   "version": "3.11.7"
  }
 },
 "nbformat": 4,
 "nbformat_minor": 5
}
